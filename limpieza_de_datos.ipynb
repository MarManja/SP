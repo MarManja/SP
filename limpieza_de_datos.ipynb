{
  "nbformat": 4,
  "nbformat_minor": 0,
  "metadata": {
    "colab": {
      "provenance": [],
      "authorship_tag": "ABX9TyPbwDZASUcLsZvaorVoZlTe",
      "include_colab_link": true
    },
    "kernelspec": {
      "name": "python3",
      "display_name": "Python 3"
    },
    "language_info": {
      "name": "python"
    }
  },
  "cells": [
    {
      "cell_type": "markdown",
      "metadata": {
        "id": "view-in-github",
        "colab_type": "text"
      },
      "source": [
        "<a href=\"https://colab.research.google.com/github/MarManja/SP/blob/main/limpieza_de_datos.ipynb\" target=\"_parent\"><img src=\"https://colab.research.google.com/assets/colab-badge.svg\" alt=\"Open In Colab\"/></a>"
      ]
    },
    {
      "cell_type": "code",
      "execution_count": 56,
      "metadata": {
        "id": "RZN38hOmEkNW"
      },
      "outputs": [],
      "source": [
        "import pandas as pd\n",
        "import numpy as np\n",
        "import matplotlib.pyplot as plt\n",
        "import seaborn as sns"
      ]
    },
    {
      "cell_type": "code",
      "source": [
        "#Cargar archivo csv desde el equipo\n",
        "from google.colab import files\n",
        "files.upload()"
      ],
      "metadata": {
        "id": "m1K8irglEovI"
      },
      "execution_count": null,
      "outputs": []
    },
    {
      "cell_type": "code",
      "source": [
        "#¢Convertir en detaframe\n",
        "data=pd.read_csv(\"PROCESADO_Recoleccion_de_datos_Negocios_IN1002B (1).csv\")\n",
        "data.head(5)"
      ],
      "metadata": {
        "id": "OP0236QpEore"
      },
      "execution_count": null,
      "outputs": []
    },
    {
      "cell_type": "code",
      "source": [
        "#Verificamos información del DataFrame\n",
        "data.info()"
      ],
      "metadata": {
        "colab": {
          "base_uri": "https://localhost:8080/"
        },
        "id": "xk4LPonFEooj",
        "outputId": "c28b07d0-1c03-4461-a504-0f5bc875f978"
      },
      "execution_count": 71,
      "outputs": [
        {
          "output_type": "stream",
          "name": "stdout",
          "text": [
            "<class 'pandas.core.frame.DataFrame'>\n",
            "RangeIndex: 1166 entries, 0 to 1165\n",
            "Data columns (total 36 columns):\n",
            " #   Column                                                                                                                                                                                Non-Null Count  Dtype  \n",
            "---  ------                                                                                                                                                                                --------------  -----  \n",
            " 0   Marca temporal                                                                                                                                                                        1166 non-null   object \n",
            " 1   Nombre del estudiante entrevistador                                                                                                                                                   1166 non-null   object \n",
            " 2   Matrícula del estudiante entrevistador                                                                                                                                                1166 non-null   object \n",
            " 3   Grupo al cual pertenece                                                                                                                                                               1166 non-null   object \n",
            " 4   Equipo del entrevistador                                                                                                                                                              1166 non-null   int64  \n",
            " 5   Nombre del negocio a entrevistar                                                                                                                                                      1166 non-null   object \n",
            " 6   Dirección del negocio a entrevistar                                                                                                                                                   1166 non-null   object \n",
            " 7   Colonia/zona del negocio a entrevistar                                                                                                                                                1166 non-null   object \n",
            " 8   Tipo de negocio                                                                                                                                                                       1166 non-null   object \n",
            " 9   Rol de la persona entrevistada                                                                                                                                                        1166 non-null   object \n",
            " 10  Antiguedad del negocio                                                                                                                                                                1166 non-null   object \n",
            " 11  ¿Cuántos productos aproximadamente maneja en su tienda?                                                                                                                               1166 non-null   object \n",
            " 12  En promedio ¿cada cuanto realiza pedidos a sus proveedores o compra sus productos? (Use la cifra más cercana)                                                                         1166 non-null   object \n",
            " 13  ¿Qué forma de pago permite a sus clientes?                                                                                                                                            1166 non-null   object \n",
            " 14  ¿Ha participado en algún plan de colaboración con otras tiendas o empresas? \n",
            "(por ejemplo, esfuerzos conjuntos de marketing, compras al por mayor, servicios de entrega compartidos)  1166 non-null   object \n",
            " 15  En caso de una respuesta afirmativa a la pregunta anterior ¿Qué le motivó a explorar oportunidades de colaboración en su negocio de tiendas? \n",
            "(Seleccione todas las que procedan)     1166 non-null   object \n",
            " 16  ¿Qué retos o barreras ha encontrado al intentar establecer o mantener esquemas de colaboración? (Seleccione todos los que procedan)                                                   1166 non-null   object \n",
            " 17  En los últimos seis meses ¿ha implementado alguna tecnología digital en su negocio?                                                                                                   1166 non-null   object \n",
            " 18  En caso de una respuesta afirmativa a la pregunta anterior, especifique los tipos de tecnología implementados                                                                         1166 non-null   object \n",
            " 19  ¿Qué factores influyeron o influirían en su decisión de adoptar tecnología en su tienda? (Seleccione todos los que procedan)                                                          1166 non-null   object \n",
            " 20  ¿A través de cuáles de los siguientes medios se comunicas con los proveedores?                                                                                                        1166 non-null   object \n",
            " 21  ¿A través de cuáles de los siguientes medios recibes pedidos de los clientes?                                                                                                         1166 non-null   object \n",
            " 22  ¿Qué retos o barreras ha encontrado a la hora de adoptar la tecnología en su negocio? \n",
            "(Seleccione todas las que procedan)                                                            1166 non-null   object \n",
            " 23  ¿Cuál es su grado de satisfacción con las soluciones tecnológicas que ha implantado en su tienda?                                                                                     1166 non-null   object \n",
            " 24  ¿Consideran necesarias las iniciativas de los proveedores para ayudar a las tiendas a implantar soluciones tecnológicas de forma eficaz?                                              1166 non-null   object \n",
            " 25  En caso de una respuesta afirmativa, comente cuál es/fue el apoyo recibido                                                                                                            1166 non-null   object \n",
            " 26  ¿Considera necesario el apoyo gubernamental para ayudar a las tiendas a implantar soluciones tecnológicas de forma eficaz?                                                            1166 non-null   object \n",
            " 27  En caso de una respuesta afirmativa, comente cuál es/fue el apoyo recibido.1                                                                                                          1166 non-null   object \n",
            " 28  Con respecto a su negocio, usted en los últimos seis meses ha:\n",
            "(Seleccione todas las que procedan)                                                                                    1166 non-null   object \n",
            " 29  Con respecto a su negocio, usted en los últimos seis meses ha:\n",
            "(Seleccione todas las que procedan).1                                                                                  1166 non-null   object \n",
            " 30  ¿#Identificar valores nulos por columna través de cuáles de los siguientes medios se comunicas con los proveedores?                                                                   1166 non-null   object \n",
            " 31  ¿Cuántos clientes, en promedio, recibe en un día entre semana?                                                                                                                        1166 non-null   float64\n",
            " 32  ¿Cuántos clientes, en promedio, recibe en un día del fin de semana?                                                                                                                   1166 non-null   float64\n",
            " 33  En caso de tener un sistema de recolección ¿Cada cuánto pasa el camión de la basura por su negocio?                                                                                   1166 non-null   float64\n",
            " 34  En una escala de 1 a 10, ¿cómo evaluaría sus esfuerzos para reducir su impacto ambiental?                                                                                             1166 non-null   int64  \n",
            " 35  En una escala de 1 a 10, ¿cómo evaluaría sus esfuerzos para reducir su impacto social?                                                                                                1166 non-null   int64  \n",
            "dtypes: float64(3), int64(3), object(30)\n",
            "memory usage: 328.1+ KB\n"
          ]
        }
      ]
    },
    {
      "cell_type": "markdown",
      "source": [
        "**Limpieza de caracteristicas extrañas Equipo del entrevistador**\n",
        "\n",
        "volver cuantitativos"
      ],
      "metadata": {
        "id": "fgzTYsN04-O0"
      }
    },
    {
      "cell_type": "code",
      "source": [
        "#Analizar categorias de una columna\n",
        "equipos= data.groupby(['Equipo del entrevistador'])['Equipo del entrevistador'].count()\n",
        "equipos"
      ],
      "metadata": {
        "id": "sLwaTQyXEoji"
      },
      "execution_count": null,
      "outputs": []
    },
    {
      "cell_type": "code",
      "source": [
        "#Eliminar un signo de una columna\n",
        "data['Equipo del entrevistador']=data['Equipo del entrevistador'].str.replace('EQUIPO ', '')\n",
        "data['Equipo del entrevistador']=data['Equipo del entrevistador'].str.replace('Equipo ', '')\n",
        "data['Equipo del entrevistador']=data['Equipo del entrevistador'].str.replace('Equipo', '')\n",
        "data['Equipo del entrevistador']=data['Equipo del entrevistador'].str.replace('G', '0')\n",
        "data['Equipo del entrevistador']=data['Equipo del entrevistador'].str.replace('N', '0')\n",
        "data['Equipo del entrevistador']=data['Equipo del entrevistador'].str.replace('Prueba ', '')\n",
        "data['Equipo del entrevistador']=data['Equipo del entrevistador'].str.replace('equipo ', '')\n",
        "data['Equipo del entrevistador']=data['Equipo del entrevistador'].str.replace('1 ', '1')\n",
        "data['Equipo del entrevistador']=data['Equipo del entrevistador'].str.replace('1 ', '1')\n",
        "data['Equipo del entrevistador']=data['Equipo del entrevistador'].str.replace('2 ', '2')\n",
        "data['Equipo del entrevistador']=data['Equipo del entrevistador'].str.replace('5 ', '5')\n",
        "data['Equipo del entrevistador']=data['Equipo del entrevistador'].str.replace('3 ', '3')\n"
      ],
      "metadata": {
        "id": "x-Q23mxUFepl"
      },
      "execution_count": 61,
      "outputs": []
    },
    {
      "cell_type": "code",
      "source": [
        "#Conversión de tipo de dato de columna de tipo Object a int\n",
        "data['Equipo del entrevistador']= data['Equipo del entrevistador'].astype(int)"
      ],
      "metadata": {
        "id": "pcTtVw0NEuQb"
      },
      "execution_count": 73,
      "outputs": []
    },
    {
      "cell_type": "markdown",
      "source": [
        "**Limpieza de caracteristicas extrañas ¿Cuántos productos aproximadamente maneja en su tienda?**\n",
        "\n",
        "volver cuantitativos"
      ],
      "metadata": {
        "id": "ewb5hh9G5iPE"
      }
    },
    {
      "cell_type": "code",
      "source": [
        "#Analizar categorias de una columna\n",
        "productos= data.groupby(['¿Cuántos productos aproximadamente maneja en su tienda?'])['¿Cuántos productos aproximadamente maneja en su tienda?'].count()\n",
        "productos"
      ],
      "metadata": {
        "id": "5__jIjpH48y8"
      },
      "execution_count": null,
      "outputs": []
    },
    {
      "cell_type": "code",
      "source": [
        "#Eliminar un signo de una columna\n",
        "data['¿Cuántos productos aproximadamente maneja en su tienda?']=data['¿Cuántos productos aproximadamente maneja en su tienda?'].str.replace('No maneja produvtos', '0')\n",
        "data['¿Cuántos productos aproximadamente maneja en su tienda?']=data['¿Cuántos productos aproximadamente maneja en su tienda?'].str.replace('Prueba 1', '0')\n",
        "data['¿Cuántos productos aproximadamente maneja en su tienda?']=data['¿Cuántos productos aproximadamente maneja en su tienda?'].str.replace('Prueba 1', '0')\n",
        "data['¿Cuántos productos aproximadamente maneja en su tienda?']=data['¿Cuántos productos aproximadamente maneja en su tienda?'].str.replace('el menu', '0')\n",
        "data['¿Cuántos productos aproximadamente maneja en su tienda?']=data['¿Cuántos productos aproximadamente maneja en su tienda?'].str.replace('ni ifea', '0')\n",
        "data['¿Cuántos productos aproximadamente maneja en su tienda?']=data['¿Cuántos productos aproximadamente maneja en su tienda?'].str.replace('s', '0')\n",
        "data['¿Cuántos productos aproximadamente maneja en su tienda?']=data['¿Cuántos productos aproximadamente maneja en su tienda?'].str.replace('Dulce0, artículo0 de fie0ta, materia prima.', '0')\n",
        "data['¿Cuántos productos aproximadamente maneja en su tienda?']=data['¿Cuántos productos aproximadamente maneja en su tienda?'].str.replace('Ma0 de 20 producto0', '20')\n",
        "data['¿Cuántos productos aproximadamente maneja en su tienda?']=data['¿Cuántos productos aproximadamente maneja en su tienda?'].str.replace('Ma0 de 500', '500')\n",
        "data['¿Cuántos productos aproximadamente maneja en su tienda?']=data['¿Cuántos productos aproximadamente maneja en su tienda?'].str.replace('Ma0 de 20 producto0', '20')\n",
        "data['¿Cuántos productos aproximadamente maneja en su tienda?']=data['¿Cuántos productos aproximadamente maneja en su tienda?'].str.replace('Mucho0', '30')\n",
        "data['¿Cuántos productos aproximadamente maneja en su tienda?']=data['¿Cuántos productos aproximadamente maneja en su tienda?'].str.replace('Mucho0 no tiene el dato exacto', '30')\n",
        "data['¿Cuántos productos aproximadamente maneja en su tienda?']=data['¿Cuántos productos aproximadamente maneja en su tienda?'].str.replace('Ma0 de 20 producto0', '20')\n",
        "data['¿Cuántos productos aproximadamente maneja en su tienda?']=data['¿Cuántos productos aproximadamente maneja en su tienda?'].str.replace('Diver0o0 producto0 como golo0ina0, materia prima o artículo0 para fie0ta0', '100')\n",
        "data['¿Cuántos productos aproximadamente maneja en su tienda?']=data['¿Cuántos productos aproximadamente maneja en su tienda?'].str.replace('30 no tiene el dato exacto ', '30')\n",
        "data['¿Cuántos productos aproximadamente maneja en su tienda?']=data['¿Cuántos productos aproximadamente maneja en su tienda?'].str.replace('8 y variedade0', '8')\n",
        "data['¿Cuántos productos aproximadamente maneja en su tienda?']=data['¿Cuántos productos aproximadamente maneja en su tienda?'].str.replace('3 0abore0 de helado fre0a, vainilla y helado ', '3')\n",
        "data['¿Cuántos productos aproximadamente maneja en su tienda?']=data['¿Cuántos productos aproximadamente maneja en su tienda?'].str.replace('10 pretenda0 diaria0', '10')\n",
        "data['¿Cuántos productos aproximadamente maneja en su tienda?']=data['¿Cuántos productos aproximadamente maneja en su tienda?'].str.replace('80-100', '90')\n",
        "data['¿Cuántos productos aproximadamente maneja en su tienda?']=data['¿Cuántos productos aproximadamente maneja en su tienda?'].str.replace('3-4', '3')"
      ],
      "metadata": {
        "id": "jJ2vS0L248xF"
      },
      "execution_count": null,
      "outputs": []
    },
    {
      "cell_type": "code",
      "source": [
        "#Conversión de tipo de dato de columna de tipo Object a int\n",
        "data['¿Cuántos productos aproximadamente maneja en su tienda?']= data['¿Cuántos productos aproximadamente maneja en su tienda?'].astype(int)"
      ],
      "metadata": {
        "id": "6RYPBiJsMsZJ"
      },
      "execution_count": 76,
      "outputs": []
    },
    {
      "cell_type": "code",
      "source": [
        "#Verificamos información del DataFrame\n",
        "data.info()"
      ],
      "metadata": {
        "colab": {
          "base_uri": "https://localhost:8080/"
        },
        "id": "mtCcTiMsJ9yS",
        "outputId": "f5cf651b-b201-4740-c56b-ee4d2bf1265c"
      },
      "execution_count": 77,
      "outputs": [
        {
          "output_type": "stream",
          "name": "stdout",
          "text": [
            "<class 'pandas.core.frame.DataFrame'>\n",
            "RangeIndex: 1166 entries, 0 to 1165\n",
            "Data columns (total 36 columns):\n",
            " #   Column                                                                                                                                                                                Non-Null Count  Dtype  \n",
            "---  ------                                                                                                                                                                                --------------  -----  \n",
            " 0   Marca temporal                                                                                                                                                                        1166 non-null   object \n",
            " 1   Nombre del estudiante entrevistador                                                                                                                                                   1166 non-null   object \n",
            " 2   Matrícula del estudiante entrevistador                                                                                                                                                1166 non-null   object \n",
            " 3   Grupo al cual pertenece                                                                                                                                                               1166 non-null   object \n",
            " 4   Equipo del entrevistador                                                                                                                                                              1166 non-null   int64  \n",
            " 5   Nombre del negocio a entrevistar                                                                                                                                                      1166 non-null   object \n",
            " 6   Dirección del negocio a entrevistar                                                                                                                                                   1166 non-null   object \n",
            " 7   Colonia/zona del negocio a entrevistar                                                                                                                                                1166 non-null   object \n",
            " 8   Tipo de negocio                                                                                                                                                                       1166 non-null   object \n",
            " 9   Rol de la persona entrevistada                                                                                                                                                        1166 non-null   object \n",
            " 10  Antiguedad del negocio                                                                                                                                                                1166 non-null   object \n",
            " 11  ¿Cuántos productos aproximadamente maneja en su tienda?                                                                                                                               1166 non-null   int64  \n",
            " 12  En promedio ¿cada cuanto realiza pedidos a sus proveedores o compra sus productos? (Use la cifra más cercana)                                                                         1166 non-null   object \n",
            " 13  ¿Qué forma de pago permite a sus clientes?                                                                                                                                            1166 non-null   object \n",
            " 14  ¿Ha participado en algún plan de colaboración con otras tiendas o empresas? \n",
            "(por ejemplo, esfuerzos conjuntos de marketing, compras al por mayor, servicios de entrega compartidos)  1166 non-null   object \n",
            " 15  En caso de una respuesta afirmativa a la pregunta anterior ¿Qué le motivó a explorar oportunidades de colaboración en su negocio de tiendas? \n",
            "(Seleccione todas las que procedan)     1166 non-null   object \n",
            " 16  ¿Qué retos o barreras ha encontrado al intentar establecer o mantener esquemas de colaboración? (Seleccione todos los que procedan)                                                   1166 non-null   object \n",
            " 17  En los últimos seis meses ¿ha implementado alguna tecnología digital en su negocio?                                                                                                   1166 non-null   object \n",
            " 18  En caso de una respuesta afirmativa a la pregunta anterior, especifique los tipos de tecnología implementados                                                                         1166 non-null   object \n",
            " 19  ¿Qué factores influyeron o influirían en su decisión de adoptar tecnología en su tienda? (Seleccione todos los que procedan)                                                          1166 non-null   object \n",
            " 20  ¿A través de cuáles de los siguientes medios se comunicas con los proveedores?                                                                                                        1166 non-null   object \n",
            " 21  ¿A través de cuáles de los siguientes medios recibes pedidos de los clientes?                                                                                                         1166 non-null   object \n",
            " 22  ¿Qué retos o barreras ha encontrado a la hora de adoptar la tecnología en su negocio? \n",
            "(Seleccione todas las que procedan)                                                            1166 non-null   object \n",
            " 23  ¿Cuál es su grado de satisfacción con las soluciones tecnológicas que ha implantado en su tienda?                                                                                     1166 non-null   object \n",
            " 24  ¿Consideran necesarias las iniciativas de los proveedores para ayudar a las tiendas a implantar soluciones tecnológicas de forma eficaz?                                              1166 non-null   object \n",
            " 25  En caso de una respuesta afirmativa, comente cuál es/fue el apoyo recibido                                                                                                            1166 non-null   object \n",
            " 26  ¿Considera necesario el apoyo gubernamental para ayudar a las tiendas a implantar soluciones tecnológicas de forma eficaz?                                                            1166 non-null   object \n",
            " 27  En caso de una respuesta afirmativa, comente cuál es/fue el apoyo recibido.1                                                                                                          1166 non-null   object \n",
            " 28  Con respecto a su negocio, usted en los últimos seis meses ha:\n",
            "(Seleccione todas las que procedan)                                                                                    1166 non-null   object \n",
            " 29  Con respecto a su negocio, usted en los últimos seis meses ha:\n",
            "(Seleccione todas las que procedan).1                                                                                  1166 non-null   object \n",
            " 30  ¿#Identificar valores nulos por columna través de cuáles de los siguientes medios se comunicas con los proveedores?                                                                   1166 non-null   object \n",
            " 31  ¿Cuántos clientes, en promedio, recibe en un día entre semana?                                                                                                                        1166 non-null   float64\n",
            " 32  ¿Cuántos clientes, en promedio, recibe en un día del fin de semana?                                                                                                                   1166 non-null   float64\n",
            " 33  En caso de tener un sistema de recolección ¿Cada cuánto pasa el camión de la basura por su negocio?                                                                                   1166 non-null   float64\n",
            " 34  En una escala de 1 a 10, ¿cómo evaluaría sus esfuerzos para reducir su impacto ambiental?                                                                                             1166 non-null   int64  \n",
            " 35  En una escala de 1 a 10, ¿cómo evaluaría sus esfuerzos para reducir su impacto social?                                                                                                1166 non-null   int64  \n",
            "dtypes: float64(3), int64(4), object(29)\n",
            "memory usage: 328.1+ KB\n"
          ]
        }
      ]
    },
    {
      "cell_type": "code",
      "source": [
        "data=data.iloc[ : , [1,2,3,4,5,6,7,8,9,10,11,12,13,14,15,16,17,18,19,20,21,22,23,24,25,26,27,28,29,30,31,32,33,34,35,36]]"
      ],
      "metadata": {
        "id": "xFvUHhjUKxlu"
      },
      "execution_count": 68,
      "outputs": []
    },
    {
      "cell_type": "code",
      "source": [
        "#Verificamos información del DataFrame\n",
        "data.info()"
      ],
      "metadata": {
        "id": "8uFmpOYYLdab"
      },
      "execution_count": null,
      "outputs": []
    },
    {
      "cell_type": "code",
      "source": [
        "#Convertir DataFrame a CSV\n",
        "data.to_csv(\"LIMPIO.csv\")"
      ],
      "metadata": {
        "id": "o5ZSc_Cq_2hu"
      },
      "execution_count": 78,
      "outputs": []
    },
    {
      "cell_type": "code",
      "source": [
        "#descargar archivo filtrado en csv\n",
        "from google.colab import files\n",
        "files.download(\"LIMPIO.csv\")"
      ],
      "metadata": {
        "colab": {
          "base_uri": "https://localhost:8080/",
          "height": 17
        },
        "id": "gDaaCIv948uW",
        "outputId": "4332be4d-af20-43ff-f046-20466365162e"
      },
      "execution_count": 79,
      "outputs": [
        {
          "output_type": "display_data",
          "data": {
            "text/plain": [
              "<IPython.core.display.Javascript object>"
            ],
            "application/javascript": [
              "\n",
              "    async function download(id, filename, size) {\n",
              "      if (!google.colab.kernel.accessAllowed) {\n",
              "        return;\n",
              "      }\n",
              "      const div = document.createElement('div');\n",
              "      const label = document.createElement('label');\n",
              "      label.textContent = `Downloading \"${filename}\": `;\n",
              "      div.appendChild(label);\n",
              "      const progress = document.createElement('progress');\n",
              "      progress.max = size;\n",
              "      div.appendChild(progress);\n",
              "      document.body.appendChild(div);\n",
              "\n",
              "      const buffers = [];\n",
              "      let downloaded = 0;\n",
              "\n",
              "      const channel = await google.colab.kernel.comms.open(id);\n",
              "      // Send a message to notify the kernel that we're ready.\n",
              "      channel.send({})\n",
              "\n",
              "      for await (const message of channel.messages) {\n",
              "        // Send a message to notify the kernel that we're ready.\n",
              "        channel.send({})\n",
              "        if (message.buffers) {\n",
              "          for (const buffer of message.buffers) {\n",
              "            buffers.push(buffer);\n",
              "            downloaded += buffer.byteLength;\n",
              "            progress.value = downloaded;\n",
              "          }\n",
              "        }\n",
              "      }\n",
              "      const blob = new Blob(buffers, {type: 'application/binary'});\n",
              "      const a = document.createElement('a');\n",
              "      a.href = window.URL.createObjectURL(blob);\n",
              "      a.download = filename;\n",
              "      div.appendChild(a);\n",
              "      a.click();\n",
              "      div.remove();\n",
              "    }\n",
              "  "
            ]
          },
          "metadata": {}
        },
        {
          "output_type": "display_data",
          "data": {
            "text/plain": [
              "<IPython.core.display.Javascript object>"
            ],
            "application/javascript": [
              "download(\"download_16275c85-af97-4e11-95ee-186b3c502026\", \"LIMPIO.csv\", 1199162)"
            ]
          },
          "metadata": {}
        }
      ]
    }
  ]
}