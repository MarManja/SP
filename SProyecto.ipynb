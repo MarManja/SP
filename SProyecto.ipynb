{
  "nbformat": 4,
  "nbformat_minor": 0,
  "metadata": {
    "colab": {
      "provenance": [],
      "include_colab_link": true
    },
    "kernelspec": {
      "name": "python3",
      "display_name": "Python 3"
    },
    "language_info": {
      "name": "python"
    }
  },
  "cells": [
    {
      "cell_type": "markdown",
      "metadata": {
        "id": "view-in-github",
        "colab_type": "text"
      },
      "source": [
        "<a href=\"https://colab.research.google.com/github/MarManja/SP/blob/main/SProyecto.ipynb\" target=\"_parent\"><img src=\"https://colab.research.google.com/assets/colab-badge.svg\" alt=\"Open In Colab\"/></a>"
      ]
    },
    {
      "cell_type": "code",
      "execution_count": null,
      "metadata": {
        "id": "_B-50iq89y6w"
      },
      "outputs": [],
      "source": [
        "#Importamos librerías requeridas\n",
        "import pandas as pd\n",
        "import numpy as np\n",
        "import matplotlib.pyplot as plt"
      ]
    },
    {
      "cell_type": "code",
      "source": [
        "#Cargar archivo csv desde el equipo\n",
        "from google.colab import files\n",
        "files.upload()"
      ],
      "metadata": {
        "id": "V6pt8VGy-R2D"
      },
      "execution_count": null,
      "outputs": []
    },
    {
      "cell_type": "code",
      "source": [
        "#Convertir en detaframe\n",
        "data=pd.read_csv(\"Recoleccion_de_datos_Negocios_IN 1002B.csv\")\n",
        "data.head(5)"
      ],
      "metadata": {
        "id": "mc7hWA-V-zOD"
      },
      "execution_count": null,
      "outputs": []
    },
    {
      "cell_type": "markdown",
      "source": [
        "**VALORES NULOS**"
      ],
      "metadata": {
        "id": "gPrN4oL6_n6R"
      }
    },
    {
      "cell_type": "code",
      "source": [
        "#Identificar valores nulos por columna\n",
        "valores_nulos=data.isnull().sum()\n",
        "valores_nulos"
      ],
      "metadata": {
        "id": "hYBqH0sP_e-D"
      },
      "execution_count": null,
      "outputs": []
    },
    {
      "cell_type": "code",
      "source": [
        "#Cuarto método de sustitución de valores nulos\n",
        "#Sustituir valores nulos por un string en  concreto\n",
        "data[\"Nombre del negocio a entrevistar\"] =data[\"Nombre del negocio a entrevistar\"].fillna(\"Error de captura\")"
      ],
      "metadata": {
        "id": "b5BBAq7nJ2fz"
      },
      "execution_count": null,
      "outputs": []
    },
    {
      "cell_type": "code",
      "source": [
        "#Cuarto método de sustitución de valores nulos\n",
        "#Sustituir valores nulos por un string en  concreto\n",
        "data[\"En promedio ¿cada cuanto realiza pedidos a sus proveedores o compra sus productos? (Use la cifra más cercana)\"] =data[\"En promedio ¿cada cuanto realiza pedidos a sus proveedores o compra sus productos? (Use la cifra más cercana)\"].fillna(\"Error de captura\")"
      ],
      "metadata": {
        "id": "JLIcsvz0Kn83"
      },
      "execution_count": null,
      "outputs": []
    },
    {
      "cell_type": "code",
      "source": [
        "#Cuarto método de sustitución de valores nulos\n",
        "#Sustituir valores nulos por un string en  concreto\n",
        "data[\"¿Qué forma de pago permite a sus clientes?\"] =data[\"¿Qué forma de pago permite a sus clientes?\"].fillna(\"Error de captura\")"
      ],
      "metadata": {
        "id": "jpKsJ9pGAD3R"
      },
      "execution_count": null,
      "outputs": []
    },
    {
      "cell_type": "code",
      "source": [
        "#Cuarto método de sustitución de valores nulos\n",
        "#Sustituir valores nulos por un string en  concreto\n",
        "data[\"En caso de una respuesta afirmativa a la pregunta anterior ¿Qué le motivó a explorar oportunidades de colaboración en su negocio de tiendas? \\n(Seleccione todas las que procedan)\"] =data[\"En caso de una respuesta afirmativa a la pregunta anterior ¿Qué le motivó a explorar oportunidades de colaboración en su negocio de tiendas? \\n(Seleccione todas las que procedan)\"].fillna(\"Error de captura\")"
      ],
      "metadata": {
        "id": "_VjmrxYSLoXR"
      },
      "execution_count": null,
      "outputs": []
    },
    {
      "cell_type": "code",
      "source": [
        "#Cuarto método de sustitución de valores nulos\n",
        "#Sustituir valores nulos por un string en  concreto\n",
        "data[\"¿Qué retos o barreras ha encontrado al intentar establecer o mantener esquemas de colaboración? (Seleccione todos los que procedan)\"] =data[\"¿Qué retos o barreras ha encontrado al intentar establecer o mantener esquemas de colaboración? (Seleccione todos los que procedan)\"].fillna(\"Error de captura\")"
      ],
      "metadata": {
        "id": "WJPsWrBCLACq"
      },
      "execution_count": null,
      "outputs": []
    },
    {
      "cell_type": "code",
      "source": [
        "#Cuarto método de sustitución de valores nulos\n",
        "#Sustituir valores nulos por un string en  concreto\n",
        "data[\"En caso de una respuesta afirmativa a la pregunta anterior, especifique los tipos de tecnología implementados\"] =data[\"En caso de una respuesta afirmativa a la pregunta anterior, especifique los tipos de tecnología implementados\"].fillna(\"Error de captura\")"
      ],
      "metadata": {
        "id": "XuOxw7aGL5EB"
      },
      "execution_count": null,
      "outputs": []
    },
    {
      "cell_type": "code",
      "source": [
        "#Cuarto método de sustitución de valores nulos\n",
        "#Sustituir valores nulos por un string en  concreto\n",
        "data[\"¿Qué factores influyeron o influirían en su decisión de adoptar tecnología en su tienda? (Seleccione todos los que procedan)\"] =data[\"¿Qué factores influyeron o influirían en su decisión de adoptar tecnología en su tienda? (Seleccione todos los que procedan)\"].fillna(\"Error de captura\")"
      ],
      "metadata": {
        "id": "yv6z-4G-OKYS"
      },
      "execution_count": null,
      "outputs": []
    },
    {
      "cell_type": "code",
      "source": [
        "#Cuarto método de sustitución de valores nulos\n",
        "#Sustituir valores nulos por un string en  concreto\n",
        "data[\"¿A través de cuáles de los siguientes medios se comunicas con los proveedores?\"] =data[\"¿A través de cuáles de los siguientes medios se comunicas con los proveedores?\"].fillna(\"Error de captura\")"
      ],
      "metadata": {
        "id": "EQXHEoX_OigC"
      },
      "execution_count": null,
      "outputs": []
    },
    {
      "cell_type": "code",
      "source": [
        "#Cuarto método de sustitución de valores nulos\n",
        "#Sustituir valores nulos por un string en  concreto\n",
        "data[\"¿A través de cuáles de los siguientes medios recibes pedidos de los clientes?\"] =data[\"¿A través de cuáles de los siguientes medios recibes pedidos de los clientes?\"].fillna(\"Error de captura\")"
      ],
      "metadata": {
        "id": "vcklKhGVOjWB"
      },
      "execution_count": null,
      "outputs": []
    },
    {
      "cell_type": "code",
      "source": [
        "#Cuarto método de sustitución de valores nulos\n",
        "#Sustituir valores nulos por un string en  concreto\n",
        "data[\"¿Qué retos o barreras ha encontrado a la hora de adoptar la tecnología en su negocio? \\n(Seleccione todas las que procedan)\"] =data[\"¿Qué retos o barreras ha encontrado a la hora de adoptar la tecnología en su negocio? \\n(Seleccione todas las que procedan)\"].fillna(\"Error de captura\")"
      ],
      "metadata": {
        "id": "Mt8yzPIFOkWK"
      },
      "execution_count": null,
      "outputs": []
    },
    {
      "cell_type": "code",
      "source": [
        "#Cuarto método de sustitución de valores nulos\n",
        "#Sustituir valores nulos por un string en  concreto\n",
        "data[\"¿Cuál es su grado de satisfacción con las soluciones tecnológicas que ha implantado en su tienda?\"] =data[\"¿Cuál es su grado de satisfacción con las soluciones tecnológicas que ha implantado en su tienda?\"].fillna(\"Error de captura\")"
      ],
      "metadata": {
        "id": "JqomvRFNOlHr"
      },
      "execution_count": null,
      "outputs": []
    },
    {
      "cell_type": "code",
      "source": [
        "#Cuarto método de sustitución de valores nulos\n",
        "#Sustituir valores nulos por un string en  concreto\n",
        "data[\"¿Consideran necesarias las iniciativas de los proveedores para ayudar a las tiendas a implantar soluciones tecnológicas de forma eficaz? \"] =data[\"¿Consideran necesarias las iniciativas de los proveedores para ayudar a las tiendas a implantar soluciones tecnológicas de forma eficaz? \"].fillna(\"Error de captura\")"
      ],
      "metadata": {
        "id": "J_lO-tFsOl0-"
      },
      "execution_count": null,
      "outputs": []
    },
    {
      "cell_type": "code",
      "source": [
        "#Cuarto método de sustitución de valores nulos\n",
        "#Sustituir valores nulos por un string en  concreto\n",
        "data[\"En caso de una respuesta afirmativa, comente cuál es/fue el apoyo recibido\"] =data[\"En caso de una respuesta afirmativa, comente cuál es/fue el apoyo recibido\"].fillna(\"Error de captura\")"
      ],
      "metadata": {
        "id": "38rjpfsJOnK_"
      },
      "execution_count": null,
      "outputs": []
    },
    {
      "cell_type": "code",
      "source": [
        "#Cuarto método de sustitución de valores nulos\n",
        "#Sustituir valores nulos por un string en  concreto\n",
        "data[\"En caso de una respuesta afirmativa, comente cuál es/fue el apoyo recibido.1\"] =data[\"En caso de una respuesta afirmativa, comente cuál es/fue el apoyo recibido.1\"].fillna(\"Error de captura\")"
      ],
      "metadata": {
        "id": "w4USaz-TOoDZ"
      },
      "execution_count": null,
      "outputs": []
    },
    {
      "cell_type": "code",
      "source": [
        "#Cuarto método de sustitución de valores nulos\n",
        "#Sustituir valores nulos por un string en  concreto\n",
        "data[\"Con respecto a su negocio, usted en los últimos seis meses ha:\\n(Seleccione todas las que procedan)\"] =data[\"Con respecto a su negocio, usted en los últimos seis meses ha:\\n(Seleccione todas las que procedan)\"].fillna(\"Error de captura\")"
      ],
      "metadata": {
        "id": "OecBDuFSOozl"
      },
      "execution_count": null,
      "outputs": []
    },
    {
      "cell_type": "code",
      "source": [
        "#Primer método de sustitución de valores nulos\n",
        "#Sustituir valores nulos con promedio o media\n",
        "data[\"En caso de tener un sistema de recolección ¿Cada cuánto pasa el camión de la basura por su negocio?\"]=data[\"En caso de tener un sistema de recolección ¿Cada cuánto pasa el camión de la basura por su negocio?\"].fillna(round(data[\"En caso de tener un sistema de recolección ¿Cada cuánto pasa el camión de la basura por su negocio?\"].mean(),1))"
      ],
      "metadata": {
        "id": "5_sUAmOjQxT-"
      },
      "execution_count": null,
      "outputs": []
    },
    {
      "cell_type": "code",
      "source": [
        "#Cuarto método de sustitución de valores nulos\n",
        "#Sustituir valores nulos por un string en  concreto\n",
        "data[\"Con respecto a su negocio, usted en los últimos seis meses ha:\\n(Seleccione todas las que procedan).1\"] =data[\"Con respecto a su negocio, usted en los últimos seis meses ha:\\n(Seleccione todas las que procedan).1\"].fillna(\"Error de captura\")"
      ],
      "metadata": {
        "id": "LKuJg9R_OqxD"
      },
      "execution_count": null,
      "outputs": []
    },
    {
      "cell_type": "code",
      "source": [
        "#Identificar valores nulos por columna\n",
        "valores_nulos=data.isnull().sum()\n",
        "valores_nulos"
      ],
      "metadata": {
        "id": "7r4pAr0_DeLG"
      },
      "execution_count": null,
      "outputs": []
    },
    {
      "cell_type": "markdown",
      "source": [
        "**OUTLIER**"
      ],
      "metadata": {
        "id": "KYasW6lYCRGi"
      }
    },
    {
      "cell_type": "code",
      "source": [
        "#Verificamos información del DataFrame\n",
        "data.info()"
      ],
      "metadata": {
        "id": "roL50ih2CQja"
      },
      "execution_count": null,
      "outputs": []
    },
    {
      "cell_type": "code",
      "source": [
        "#Filtro para obtener variables cuantitativas\n",
        "Cuantitativas=data.iloc[ : , [11,12,31,32,34]]\n",
        "Cuantitativas"
      ],
      "metadata": {
        "id": "PvqmvWPMEPex"
      },
      "execution_count": null,
      "outputs": []
    },
    {
      "cell_type": "code",
      "source": [
        "#Filtro para obtener variables cualitativas\n",
        "Cualitativas=data.iloc[ : , [0,1,2,3,4,5,6,7,8,9,10,13,14,15,16,17,18,19,20,21,22,23,24,25,26,27,28,29,30,33,35]]\n",
        "Cualitativas"
      ],
      "metadata": {
        "id": "PNY2wzKYEPbw"
      },
      "execution_count": null,
      "outputs": []
    },
    {
      "cell_type": "code",
      "source": [
        "#Verificamos información del DataFrame cuantitativas\n",
        "Cuantitativas.info()"
      ],
      "metadata": {
        "id": "Zoirqsc1EPQM"
      },
      "execution_count": null,
      "outputs": []
    },
    {
      "cell_type": "code",
      "source": [
        "#Verificamos información del DataFrame cualitativas\n",
        "Cualitativas.info()"
      ],
      "metadata": {
        "id": "VxJxFVBPEUq9"
      },
      "execution_count": null,
      "outputs": []
    },
    {
      "cell_type": "markdown",
      "source": [
        "PROCEDIMIENTO \"DESVIACIÓN ESTÁNDAR\" PARA ELIMINAR OUTLIERS EN DATAFRAME"
      ],
      "metadata": {
        "id": "1pI8dbhZE_og"
      }
    },
    {
      "cell_type": "code",
      "source": [
        "#Método aplicando desviación estandar. Encuentro los valores extremos\n",
        "y=Cuantitativas\n",
        "Limite_Superior= y.mean() + 3*y.std()\n",
        "Limite_Inferior= y.mean() - 3*y.std()\n",
        "print(\"Limite superior permitido\", Limite_Superior)\n",
        "print(\"Limite inferior permitido\", Limite_Inferior)"
      ],
      "metadata": {
        "id": "PYmBzaJpEcsQ"
      },
      "execution_count": null,
      "outputs": []
    },
    {
      "cell_type": "code",
      "source": [
        "# Ajustar maximo de filas\n",
        "pd.options.display.max_rows = None"
      ],
      "metadata": {
        "id": "TBYemYHSEckc"
      },
      "execution_count": null,
      "outputs": []
    },
    {
      "cell_type": "code",
      "source": [
        "#Obtenemos datos y los outliers se convierten en nulos en el DataFrame\n",
        "Datos_sin_Outliers= Cuantitativas[(y<=Limite_Superior)&(y>=Limite_Inferior)]\n",
        "Datos_sin_Outliers"
      ],
      "metadata": {
        "id": "cZaKlVyXEfRc"
      },
      "execution_count": null,
      "outputs": []
    },
    {
      "cell_type": "code",
      "source": [
        "#Corroboramos valores nulos\n",
        "valores_nulos=Datos_sin_Outliers.isnull().sum()\n",
        "valores_nulos"
      ],
      "metadata": {
        "id": "S5TC91QNE0Nt"
      },
      "execution_count": null,
      "outputs": []
    },
    {
      "cell_type": "code",
      "source": [
        "#Reemplazamos valores atípicos (nulos) del dataframe con \"mean\"\n",
        "#Realizamos una copia del dataframe\n",
        "data_clean=Datos_sin_Outliers.copy()\n",
        "data_clean=data_clean.fillna(round(Datos_sin_Outliers.mean(),1))\n",
        "data_clean"
      ],
      "metadata": {
        "id": "mS0vX76hE2ld"
      },
      "execution_count": null,
      "outputs": []
    },
    {
      "cell_type": "code",
      "source": [
        "#Corroboramos valores nulos\n",
        "valores_nulos=data_clean.isnull().sum()\n",
        "valores_nulos"
      ],
      "metadata": {
        "id": "At79VJkAE2hs"
      },
      "execution_count": null,
      "outputs": []
    },
    {
      "cell_type": "code",
      "source": [
        "Dataframe_final = pd.concat([Cualitativas, data_clean], axis=1)\n",
        "Dataframe_final"
      ],
      "metadata": {
        "id": "id66KtqWFFv3"
      },
      "execution_count": null,
      "outputs": []
    },
    {
      "cell_type": "code",
      "source": [
        "#Convertir DataFrame a CSV\n",
        "Dataframe_final.to_csv(\"PROCESADO_Recoleccion_de_datos_Negocios_IN1002B.csv\")"
      ],
      "metadata": {
        "id": "MqUVKyGJFGk4"
      },
      "execution_count": null,
      "outputs": []
    },
    {
      "cell_type": "code",
      "source": [
        "#descargar archivo filtrado en csv\n",
        "from google.colab import files\n",
        "\n",
        "\n",
        "files.download(\"PROCESADO_Recoleccion_de_datos_Negocios_IN1002B.csv\")"
      ],
      "metadata": {
        "id": "3DEBy-ByFIo8"
      },
      "execution_count": null,
      "outputs": []
    }
  ]
}